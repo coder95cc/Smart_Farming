{
  "cells": [
    {
      "cell_type": "code",
      "execution_count": null,
      "metadata": {},
      "outputs": [],
      "source": [
        "import numpy as np\n",
        "from sklearn.metrics import confusion_matrix\n",
        "import time\n",
        "import seaborn as sns\n",
        "import matplotlib.pyplot as plt\n",
        "import torch\n",
        "import torchvision.models as models\n",
        "import torchvision.transforms as transforms\n",
        "from torchvision.datasets import ImageFolder\n",
        "from torch.utils.data import DataLoader\n",
        "\n",
        "#Train IELM and evaluating training accuracy\n",
        "no_classes = 2\n",
        "error = 0.1\n",
        "loss_function = \"binary_cross_entropy\" #\"mean_squared_error\"  #It can be mean_absolute_error also\n",
        "activation_function = \"tanh\"\n",
        "import tensorflow as tf\n",
        "\n",
        "# Set the GPU memory growth option\n",
        "physical_devices = tf.config.list_physical_devices(\"GPU\")\n",
        "print(physical_devices)\n",
        "if len(physical_devices) > 0:\n",
        "    tf.config.experimental.set_memory_growth(physical_devices[0], True)\n",
        "\n"
      ]
    },
    {
      "cell_type": "code",
      "execution_count": null,
      "metadata": {},
      "outputs": [],
      "source": [
        "def loading_data(train_path,test_path):\n",
        "\n",
        "    # Define the data transformations\n",
        "    transform = transforms.Compose([\n",
        "        transforms.Resize((224, 224)),  # Resize images to (224, 224)\n",
        "        transforms.ToTensor(),  # Convert images to tensors\n",
        "        transforms.Normalize(mean=[0.485, 0.456, 0.406], std=[0.229, 0.224, 0.225])  # Normalize images\n",
        "    ])\n",
        "\n",
        "    \n",
        "\n",
        "    train_dataset = ImageFolder(train_path, transform=transform)\n",
        "    traindata_loader = DataLoader(train_dataset, batch_size=10, shuffle=True)\n",
        "\n",
        "    test_dataset = ImageFolder(test_path, transform=transform)\n",
        "    testdata_loader = DataLoader(test_dataset, batch_size=10, shuffle=True)\n",
        "    return traindata_loader,testdata_loader\n",
        "\n",
        "def load_model():\n",
        "    #loading of model\n",
        "    device=torch.device(\"cuda\")  \n",
        "    \n",
        "    base_model = models.resnet50(weights=models.ResNet50_Weights.DEFAULT)\n",
        "    base_model = torch.nn.Sequential(*list(base_model.children())[:-1])\n",
        "    base_model=base_model.to(device)\n",
        "    base_model.eval()\n",
        "    return base_model\n",
        "#training features extraction\n",
        "def training_feature_extraction(device, traindata_loader,resnet_model):\n",
        "\n",
        "    x_training_features = []\n",
        "    y_train_labels = []\n",
        "    with torch.no_grad():\n",
        "        for images, labels in traindata_loader:        \n",
        "            images = images.to(device)\n",
        "            labels = labels.to(device)\n",
        "            # Extract features using VGG16\n",
        "            with torch.no_grad():\n",
        "                features = resnet_model(images)   \n",
        "            \n",
        "            x_training_features.append(features)\n",
        "            y_train_labels.append(labels)\n",
        "    x_training_features = torch.cat(x_training_features, dim=0)\n",
        "    y_train_labels = torch.cat(y_train_labels, dim=0)\n",
        "\n",
        "    x_training_features.to(device)\n",
        "    y_train_labels.to(device)\n",
        "    return x_training_features,y_train_labels\n",
        "\n",
        "def testing_feature_extratcion(device,testdata_loader,vgg_model):\n",
        "    x_testing_features = []\n",
        "    y_testing_labels = []\n",
        "    with torch.no_grad():\n",
        "        for images, labels in testdata_loader:\n",
        "            images = images.to(device)\n",
        "            labels = labels.to(device)\n",
        "            # Extract features using VGG19\n",
        "            with torch.no_grad():\n",
        "                features = vgg_model(images) \n",
        "            x_testing_features.append(vgg_model(images))\n",
        "            y_testing_labels.append(labels)\n",
        "    x_testing_features = torch.cat(x_testing_features, dim=0)\n",
        "    y_testing_labels = torch.cat(y_testing_labels, dim=0)\n",
        "\n",
        "    x_testing_features.to(device)\n",
        "    y_testing_labels.to(device)\n",
        "    return x_testing_features,y_testing_labels\n",
        "\n",
        "\"\"\"\n",
        "IELM Constructor class\n",
        "\"\"\"\n",
        "import torch\n",
        "import torch.nn as nn\n",
        "from sklearn.metrics import precision_recall_fscore_support\n",
        "class I_ELM():\n",
        "    \"\"\" Constructor to initialize node\"\"\"\n",
        "    def __init__(self, no_input_nodes, max_no_hidden_nodes, no_output_nodes,\n",
        "        activation_function='sigmoid', loss_function='mean_squared_error'):\n",
        "        device=torch.device(\"cuda\") \n",
        "        \n",
        "        self.no_input_nodes = no_input_nodes\n",
        "        self.no_hidden_nodes = 1\n",
        "        self.no_output_nodes = no_output_nodes\n",
        "\n",
        "        self.beta = torch.FloatTensor(self.no_hidden_nodes, self.no_output_nodes).uniform_(-1., 1.)\n",
        "        self.beta=self.beta.to(device)\n",
        "        \n",
        "        # initialize weights between Input Layer and hidden layer\n",
        "        self.alpha=torch.FloatTensor(self.no_input_nodes, self.no_hidden_nodes).uniform_(-1.,1.)\n",
        "        self.alpha=self.alpha.to(device)\n",
        "        \n",
        "        # Initialize Biases\n",
        "        self.bias =torch.zeros(size=(self.no_hidden_nodes,))\n",
        "        self.bias=self.bias.to(device)\n",
        "        # set an activation function\n",
        "        self.activation_function = activation_function\n",
        "       \n",
        "        # set a loss function\n",
        "        self.loss_function = loss_function\n",
        "    \n",
        "    def mean_squared_error(self,Y_True, Y_Pred):\n",
        "        return 0.5 * torch.mean((Y_True - Y_Pred)**2)\n",
        "\n",
        "    def mean_absolute_error(self, Y_True, Y_Pred):\n",
        "        return torch.mean(torch.abs(Y_True - Y_Pred))\n",
        "    \n",
        "    def sigmoid(self, x):\n",
        "        return 1. /(1.+ torch.exp(-x))\n",
        "    \n",
        "    def predict(self, X):\n",
        "        return torch.tensor(self(X), dtype=torch.float32)\n",
        "    \n",
        "    def __call__(self, X):\n",
        "        h = torch.sigmoid(torch.matmul(X,self.alpha) + self.bias)\n",
        "        return torch.matmul(h,self.beta)\n",
        "    \n",
        "    def binary_cross_entropy(self,Y_true, Y_pred):\n",
        "        lss=[]\n",
        "        Y_pred = torch.clamp(Y_pred, min=1e-7, max=1.0 - 1e-7)\n",
        "        loss_calculated=- (Y_true * torch.log(Y_pred) + (1 - Y_true) * torch.log(1 - Y_pred))\n",
        "        '''loss_calculated_max=torch.argmax(loss_calculated, axis=-1)\n",
        "        loss_calculated_max=loss_calculated_max.cpu()\n",
        "        \n",
        "        for i in range(len(loss_calculated_max)):\n",
        "            l1=loss_calculated_max[i]\n",
        "            lss.append(l1)\n",
        "        #print(lss)\n",
        "        plt.plot(range(1, Lmax), lss)\n",
        "        plt.xlabel('Hidden Layer Neurons')\n",
        "        plt.ylabel('Training Loss')\n",
        "        #plt.title('BCE Loss Over Epochs')\n",
        "        plt.show()\n",
        "        '''\n",
        "        loss=torch.mean(loss_calculated)\n",
        "        return loss\n",
        "\n",
        "\n",
        "    def plot_confusion(self,Y_true, Y_pred):\n",
        "         \n",
        "        # Calculate the confusion matrix \n",
        "        confusion = confusion_matrix(Y_true, Y_pred)\n",
        "        \n",
        "        # Extract values from the confusion matrix\n",
        "        TP = confusion[1, 1]\n",
        "        FP = confusion[0, 1]\n",
        "        TN = confusion[0, 0]\n",
        "        FN = confusion[1, 0]\n",
        "        TPR= TP/(TP+FN)\n",
        "        FPR=FP/(FP+TN)\n",
        "        X=[0,TPR,1]\n",
        "        Y=[0,FPR,1]\n",
        "        AUCSCORE =np.trapz(Y,X)\n",
        "\n",
        "        # Calculate precision, recall, and F1-score\n",
        "        precision, recall, f1_score, _ = precision_recall_fscore_support(Y_true,Y_pred, average='binary')\n",
        "\n",
        "        print(\"precision=\",precision,\"recall=\",recall,\"f1-score=\",f1_score,\"auc-score=\",AUCSCORE)\n",
        "\n",
        "        Sensitivity = confusion[0][0]/(confusion[0][0]+confusion[1][1])\n",
        "        Specificity =confusion[1][1]/(confusion[0][1]+confusion[1][1])\n",
        "        fpr = 1-Specificity\n",
        "        print(\"sensitivity=\",Sensitivity,\"specificity=\",Specificity,\"fpr=\",fpr)\n",
        "        # Print the confusion matrix\n",
        "        print(\"Confusion Matrix:\",confusion)\n",
        "         \n",
        "        import pandas as pd\n",
        "\n",
        "        data = {'Column1':[precision,recall,f1_score,AUCSCORE,Sensitivity,Specificity,fpr]}\n",
        "        df_matric = pd.DataFrame(data=data)\n",
        "        df_matric.index  = ['Precision', 'recall', 'f1-score','Accuracy Score','sensitivity','specificity','fpr']\n",
        "        print(df_matric)\n",
        "\n",
        "        \n",
        "        # Get the number of classes\n",
        "        num_classes = len(np.unique(Y_true))\n",
        "\n",
        "        # Create a figure and axis\n",
        "        # Create a figure and axis\n",
        "        fig, ax = plt.subplots(figsize=(4,4))\n",
        "        cmlabels=['Vacant','Occuped']\n",
        "        # Plot the confusion matrix using a heatmap\n",
        "        sns.heatmap(confusion, annot=True, cmap=\"Blues\", fmt=\"d\", cbar=False, ax=ax,xticklabels=cmlabels,yticklabels=cmlabels)\n",
        "\n",
        "        # Set axis labels and title\n",
        "        ax.set_xlabel(\"Predicted labels\")\n",
        "        ax.set_ylabel(\"Actual labels\")\n",
        "        title=\"CM For testing on UFPR04\"\n",
        "        ax.set_title(\"\")\n",
        "        plt.savefig(title+'confusion_matrix.png')\n",
        "        # Show the plot\n",
        "        plt.show()\n",
        "\n",
        "\n",
        "\n",
        "    def evaluate(self, X, Y_true, metrics):\n",
        "        Y_pred =self.predict(X)\n",
        "        #Y_true = Y_true\n",
        "        \n",
        "        ret = []\n",
        "        \n",
        "        Y_pred=torch.tensor(Y_pred,dtype=torch.float32)\n",
        "\n",
        "\n",
        "        for m in metrics:\n",
        "            if m == 'loss':\n",
        "                loss=[]\n",
        "                loss = self.binary_cross_entropy(Y_true, Y_pred)\n",
        "                ret.append(loss)                \n",
        "            elif m == 'accuracy':\n",
        "                Y_pred_argmax = torch.argmax(Y_pred, axis=-1)\n",
        "                Y_true_argmax = torch.argmax(Y_true, axis=-1)\n",
        "                acc = torch.sum(Y_pred_argmax == Y_true_argmax) / len(Y_true)\n",
        "                #plotting of confusion matrix\n",
        "\n",
        "                # Get predicted probabilities for positive class\n",
        "                Y_true_argmax=Y_true_argmax.cpu()\n",
        "                Y_pred_argmax=Y_pred_argmax.cpu()\n",
        "                self.plot_confusion(Y_true_argmax, Y_pred_argmax)\n",
        "                ret.append(acc)\n",
        "            else:\n",
        "                raise ValueError('an unknown evaluation indicator \\'%s\\'.' % m)\n",
        "        if len(ret) == 1:\n",
        "            print(ret)\n",
        "            ret = ret\n",
        "        elif len(ret) == 0:\n",
        "            ret = None\n",
        "        return ret\n",
        "\n",
        "    def fit(self, X, Y_true,Lmax,error,activation):\n",
        "        device=torch.device(\"cuda\")\n",
        "        with torch.no_grad():\n",
        "            self.beta=torch.FloatTensor(np.random.uniform(-1.,1.,size=(1, self.no_output_nodes)))\n",
        "            self.alpha = torch.FloatTensor(self.no_input_nodes, 1).uniform_(-1,1)\n",
        "            print(self.beta.shape, self.alpha.shape,X.shape)\n",
        "            \n",
        "            self.alpha=self.alpha.to(device)\n",
        "            self.beta=self.beta.to(device)\n",
        "            if(activation=='s'):\n",
        "                H = torch.sigmoid(torch.matmul(X, self.alpha))\n",
        "            elif(activation=='t'):\n",
        "                H = torch.tanh(torch.matmul(X, self.alpha))  \n",
        "            elif(activation=='r'):\n",
        "                H = torch.relu(torch.matmul(X, self.alpha))\n",
        "            \n",
        "            # Compute a pseudoinverse of H\n",
        "            H_pinv = torch.pinverse(H)\n",
        "\n",
        "            # Update beta\n",
        "            self.beta = torch.matmul(H_pinv, Y_true.float())\n",
        "            \n",
        "            for i in range(2, Lmax):\n",
        "                beta_random = torch.FloatTensor(np.random.uniform(-1.,1.,size=(1, self.no_output_nodes)))\n",
        "                alpha_random = torch.FloatTensor(self.no_input_nodes, 1).uniform_(-1,1)\n",
        "                \n",
        "                beta_random=beta_random.to(device)\n",
        "                alpha_random=alpha_random.to(device)\n",
        "                \n",
        "                self.alpha=torch.cat((self.alpha,alpha_random),dim=1)                          \n",
        "                self.beta =torch.cat((self.beta,beta_random),dim=0)\n",
        "\n",
        "                if(activation=='s'):\n",
        "                    H = torch.sigmoid(torch.matmul(X, self.alpha))\n",
        "                elif(activation=='t'):\n",
        "                    H = torch.tanh(torch.matmul(X, self.alpha))  \n",
        "                elif(activation=='r'):\n",
        "                    H = torch.relu(torch.matmul(X, self.alpha))\n",
        "                \n",
        "                H_pinv = torch.pinverse(H)\n",
        "                self.beta = torch.matmul(H_pinv, Y_true) \n",
        "\n",
        "from  keras.utils import np_utils\n",
        "def train_features_conversion(x_training_features,y_train_labels):\n",
        "\n",
        "    # Convert the extracted features to numpy arrays\n",
        "\n",
        "    device=torch.device(\"cuda\")\n",
        "    x_training_features_np = x_training_features.detach().cpu().numpy()  \n",
        "    flattened_features_train = x_training_features_np.reshape(x_training_features_np.shape[0], -1)\n",
        "    train_features_tensor = torch.tensor(flattened_features_train, dtype=torch.float32).to(device)\n",
        "    \n",
        "    y_train_array= y_train_labels.cpu().detach().numpy()\n",
        "    y_train_array_encoded = np_utils.to_categorical(y_train_array,no_classes)\n",
        "    y_train_labels_encoded=torch.tensor(y_train_array_encoded,dtype=torch.float32)\n",
        "    y_train_labels_encoded=y_train_labels_encoded.to(device)    \n",
        "    return train_features_tensor,y_train_labels_encoded\n",
        "\n",
        "def test_features_conversion(x_testing_features,y_testing_labels):\n",
        "    # Convert the extracted features to numpy arrays\n",
        "    device=torch.device(\"cuda\")\n",
        "    x_testing_features_np = x_testing_features.detach().cpu().numpy()\n",
        "    \n",
        "    flattened_features_test = x_testing_features_np.reshape(x_testing_features_np.shape[0], -1)\n",
        "    test_features_tensor = torch.tensor(flattened_features_test,dtype=torch.float32).to(device)\n",
        "    \n",
        "    y_test_array= y_testing_labels.cpu().detach().numpy()\n",
        "    y_test_array_encoded = np_utils.to_categorical(y_test_array,no_classes)\n",
        "    y_test_labels_encoded=torch.tensor(y_test_array_encoded,dtype=torch.float32)\n",
        "    y_test_labels_encoded=y_test_labels_encoded.to(device)\n",
        "    return test_features_tensor, y_test_labels_encoded\n",
        "\n"
      ]
    },
    {
      "cell_type": "code",
      "execution_count": null,
      "metadata": {},
      "outputs": [],
      "source": [
        "device=torch.device(\"cuda\") \n",
        "train_path=\"D:/PretrainedIELM/Dataset/PUC/Cloudy/train/\"\n",
        "test_path=\"D:/PretrainedIELM/Dataset/PUC/Cloudy/test/\"\n",
        "traindata_loader,testdata_loader=loading_data(train_path,test_path)\n",
        "model=load_model()\n"
      ]
    },
    {
      "cell_type": "code",
      "execution_count": null,
      "metadata": {},
      "outputs": [],
      "source": [
        "x_training_features,y_train_labels=training_feature_extraction(device,traindata_loader,model)\n",
        "train_features_tensor,y_train_labels_encoded=train_features_conversion(x_training_features,y_train_labels)\n",
        "torch.save(train_features_tensor,\"D:/PretrainedIELM/ResNet50/PUC_train_features.pth\")\n",
        "torch.save(y_train_labels_encoded,\"D:/PretrainedIELM/ResNet50/PUC_train_labels.pth\")"
      ]
    },
    {
      "cell_type": "code",
      "execution_count": null,
      "metadata": {},
      "outputs": [],
      "source": [
        "x_testing_features,y_testing_labels=testing_feature_extratcion(device,testdata_loader,model)\n",
        "test_features_tensor, y_test_labels_encoded=test_features_conversion(x_testing_features,y_testing_labels)\n"
      ]
    },
    {
      "cell_type": "code",
      "execution_count": null,
      "metadata": {},
      "outputs": [],
      "source": [
        "torch.save(test_features_tensor,\"D:/PretrainedIELM/ResNet50/PUC_test_features.pth\")\n",
        "torch.save(y_test_labels_encoded,\"D:/PretrainedIELM/ResNet50/PUC_test_labels.pth\")"
      ]
    },
    {
      "cell_type": "code",
      "execution_count": null,
      "metadata": {},
      "outputs": [],
      "source": [
        "def i_elmTraining(features_train,y_train,activation):\n",
        "  # ===============================\n",
        "  # Instantiate ELM object\n",
        "  # ===============================\n",
        "  input=features_train.size(1)\n",
        "  ielm_model = I_ELM(\n",
        "      no_input_nodes=input,\n",
        "      max_no_hidden_nodes=Lmax,\n",
        "      no_output_nodes=no_classes,\n",
        "      loss_function=loss_function,\n",
        "      activation_function=activation_function,    \n",
        "  )\n",
        "\n",
        "  i = time.time()  \n",
        "  ielm_model.fit(features_train,y_train,Lmax,error,activation)\n",
        "  final = time.time()\n",
        "\n",
        "  training_loss, training_acc = ielm_model.evaluate(features_train, y_train, metrics=['loss','accuracy'])\n",
        "  \n",
        "  print('Training Loss in mean square error: %f' % training_loss) # loss value\n",
        "  print('Training Accuracy: %f' % training_acc)# accuracy\n",
        "  print('Total Time require for Training %f Seconds'% (final-i))\n",
        "\n",
        "  return ielm_model\n",
        "def i_elmTesting(ielm_model,features_test,y_test):\n",
        "  \n",
        "  i = time.time()\n",
        "  test_loss, test_acc = ielm_model.evaluate(features_test, y_test, metrics=['loss', 'accuracy'])\n",
        "  final = time.time()\n",
        "  \n",
        "  print('Testing Loss in mean square error: %f ' % test_loss,\"\\n\")\n",
        "  print('Testing Accuracy: %f' % test_acc)\n",
        "  time_taken=(final-i)/features_test.shape[0]\n",
        "  print('Total Time require for Testing one image is ' ,time_taken ,'seconds')\n",
        "  \n"
      ]
    },
    {
      "cell_type": "code",
      "execution_count": null,
      "metadata": {},
      "outputs": [],
      "source": [
        "x_training_features=torch.load(\"D:/PretrainedIELM/ResNet50/UFPR05_train_features.pth\")\n",
        "y_train_labels=torch.load(\"D:/PretrainedIELM/ResNet50/UFPR05_train_labels.pth\")\n"
      ]
    },
    {
      "cell_type": "code",
      "execution_count": null,
      "metadata": {},
      "outputs": [],
      "source": [
        "\n",
        "x_testing_features=torch.load(\"D:/PretrainedIELM/ResNet50/UFPR05_test_features.pth\")\n",
        "y_testing_labels=torch.load(\"D:/PretrainedIELM/ResNet50/UFPR05_test_labels.pth\")\n",
        "\n"
      ]
    },
    {
      "cell_type": "code",
      "execution_count": 529,
      "metadata": {},
      "outputs": [
        {
          "name": "stdout",
          "output_type": "stream",
          "text": [
            "torch.Size([1, 2]) torch.Size([2048, 1]) torch.Size([116049, 2048])\n",
            "precision= 0.9866625401597547 recall= 0.9816856799319628 f1-score= 0.9841678181871637 auc-score= 0.018613597726020878\n",
            "sensitivity= 0.41218666315466 specificity= 0.9866625401597547 fpr= 0.013337459840245258\n",
            "Confusion Matrix: [[46946   905]\n",
            " [ 1249 66949]]\n",
            "                 Column1\n",
            "Precision       0.986663\n",
            "recall          0.981686\n",
            "f1-score        0.984168\n",
            "Accuracy Score  0.018614\n",
            "sensitivity     0.412187\n",
            "specificity     0.986663\n",
            "fpr             0.013337\n"
          ]
        },
        {
          "name": "stderr",
          "output_type": "stream",
          "text": [
            "C:\\Users\\Dr. Rajendra Ku Roul\\AppData\\Local\\Temp\\ipykernel_5080\\1701976199.py:111: UserWarning: To copy construct from a tensor, it is recommended to use sourceTensor.clone().detach() or sourceTensor.clone().detach().requires_grad_(True), rather than torch.tensor(sourceTensor).\n",
            "  return torch.tensor(self(X), dtype=torch.float32)\n",
            "C:\\Users\\Dr. Rajendra Ku Roul\\AppData\\Local\\Temp\\ipykernel_5080\\1701976199.py:201: UserWarning: To copy construct from a tensor, it is recommended to use sourceTensor.clone().detach() or sourceTensor.clone().detach().requires_grad_(True), rather than torch.tensor(sourceTensor).\n",
            "  Y_pred=torch.tensor(Y_pred,dtype=torch.float32)\n"
          ]
        },
        {
          "data": {
            "image/png": "[encoded data removed]",
            "text/plain": [
              "<Figure size 400x400 with 1 Axes>"
            ]
          },
          "metadata": {},
          "output_type": "display_data"
        },
        {
          "name": "stdout",
          "output_type": "stream",
          "text": [
            "Training Loss in mean square error: 1.058890\n",
            "Training Accuracy: 0.981439\n",
            "Total Time require for Training 1.090328 Seconds\n"
          ]
        }
      ],
      "source": [
        "Lmax= 100\n",
        "activation='r'\n",
        "i_elm_model=i_elmTraining(x_training_features,y_train_labels,activation)\n"
      ]
    },
    {
      "cell_type": "code",
      "execution_count": 530,
      "metadata": {},
      "outputs": [
        {
          "name": "stdout",
          "output_type": "stream",
          "text": [
            "precision= 0.9892047993949187 recall= 0.9844327357328589 f1-score= 0.9868129983709165 auc-score= 0.015439181187598225\n",
            "sensitivity= 0.4124001878816346 specificity= 0.9892047993949187 fpr= 0.010795200605081323\n",
            "Confusion Matrix: [[20194   314]\n",
            " [  455 28773]]\n",
            "                 Column1\n",
            "Precision       0.989205\n",
            "recall          0.984433\n",
            "f1-score        0.986813\n",
            "Accuracy Score  0.015439\n",
            "sensitivity     0.412400\n",
            "specificity     0.989205\n",
            "fpr             0.010795\n"
          ]
        },
        {
          "name": "stderr",
          "output_type": "stream",
          "text": [
            "C:\\Users\\Dr. Rajendra Ku Roul\\AppData\\Local\\Temp\\ipykernel_5080\\1701976199.py:111: UserWarning: To copy construct from a tensor, it is recommended to use sourceTensor.clone().detach() or sourceTensor.clone().detach().requires_grad_(True), rather than torch.tensor(sourceTensor).\n",
            "  return torch.tensor(self(X), dtype=torch.float32)\n",
            "C:\\Users\\Dr. Rajendra Ku Roul\\AppData\\Local\\Temp\\ipykernel_5080\\1701976199.py:201: UserWarning: To copy construct from a tensor, it is recommended to use sourceTensor.clone().detach() or sourceTensor.clone().detach().requires_grad_(True), rather than torch.tensor(sourceTensor).\n",
            "  Y_pred=torch.tensor(Y_pred,dtype=torch.float32)\n"
          ]
        },
        {
          "data": {
            "image/png": "[encoded data removed]",
            "text/plain": [
              "<Figure size 400x400 with 1 Axes>"
            ]
          },
          "metadata": {},
          "output_type": "display_data"
        },
        {
          "name": "stdout",
          "output_type": "stream",
          "text": [
            "Testing Loss in mean square error: 1.056733  \n",
            "\n",
            "Testing Accuracy: 0.984538\n",
            "Total Time require for Testing one image is  2.8451127179167136e-06 seconds\n"
          ]
        }
      ],
      "source": [
        "i_elmTesting(i_elm_model,x_testing_features,y_testing_labels)"
      ]
    },
    {
      "cell_type": "code",
      "execution_count": 532,
      "metadata": {},
      "outputs": [
        {
          "name": "stdout",
          "output_type": "stream",
          "text": [
            "torch.Size([1, 2]) torch.Size([2048, 1]) torch.Size([116049, 2048])\n"
          ]
        },
        {
          "name": "stderr",
          "output_type": "stream",
          "text": [
            "C:\\Users\\Dr. Rajendra Ku Roul\\AppData\\Local\\Temp\\ipykernel_5080\\1701976199.py:111: UserWarning: To copy construct from a tensor, it is recommended to use sourceTensor.clone().detach() or sourceTensor.clone().detach().requires_grad_(True), rather than torch.tensor(sourceTensor).\n",
            "  return torch.tensor(self(X), dtype=torch.float32)\n",
            "C:\\Users\\Dr. Rajendra Ku Roul\\AppData\\Local\\Temp\\ipykernel_5080\\1701976199.py:201: UserWarning: To copy construct from a tensor, it is recommended to use sourceTensor.clone().detach() or sourceTensor.clone().detach().requires_grad_(True), rather than torch.tensor(sourceTensor).\n",
            "  Y_pred=torch.tensor(Y_pred,dtype=torch.float32)\n"
          ]
        },
        {
          "name": "stdout",
          "output_type": "stream",
          "text": [
            "precision= 0.9825497130268421 recall= 0.9940467462388927 f1-score= 0.9882647929209731 auc-score= 0.015557346196764405\n",
            "sensitivity= 0.40761453700224576 specificity= 0.9825497130268421 fpr= 0.01745028697315787\n",
            "Confusion Matrix: [[46647  1204]\n",
            " [  406 67792]]\n",
            "                 Column1\n",
            "Precision       0.982550\n",
            "recall          0.994047\n",
            "f1-score        0.988265\n",
            "Accuracy Score  0.015557\n",
            "sensitivity     0.407615\n",
            "specificity     0.982550\n",
            "fpr             0.017450\n"
          ]
        },
        {
          "data": {
            "image/png": "[encoded data removed]",
            "text/plain": [
              "<Figure size 400x400 with 1 Axes>"
            ]
          },
          "metadata": {},
          "output_type": "display_data"
        },
        {
          "name": "stdout",
          "output_type": "stream",
          "text": [
            "Training Loss in mean square error: 0.101492\n",
            "Training Accuracy: 0.986127\n",
            "Total Time require for Training 1.246899 Seconds\n"
          ]
        }
      ],
      "source": [
        "Lmax= 100\n",
        "activation='s'\n",
        "i_elm_model1=i_elmTraining(x_training_features,y_train_labels,activation)\n"
      ]
    },
    {
      "cell_type": "code",
      "execution_count": 533,
      "metadata": {},
      "outputs": [
        {
          "name": "stdout",
          "output_type": "stream",
          "text": [
            "precision= 0.9812485245017032 recall= 0.995449568906528 f1-score= 0.9882980349530394 auc-score= 0.015830901132848723\n",
            "sensitivity= 0.40679348380125185 specificity= 0.9812485245017032 fpr= 0.01875147549829681\n",
            "Confusion Matrix: [[19952   556]\n",
            " [  133 29095]]\n",
            "                 Column1\n",
            "Precision       0.981249\n",
            "recall          0.995450\n",
            "f1-score        0.988298\n",
            "Accuracy Score  0.015831\n",
            "sensitivity     0.406793\n",
            "specificity     0.981249\n",
            "fpr             0.018751\n"
          ]
        },
        {
          "name": "stderr",
          "output_type": "stream",
          "text": [
            "C:\\Users\\Dr. Rajendra Ku Roul\\AppData\\Local\\Temp\\ipykernel_5080\\1701976199.py:111: UserWarning: To copy construct from a tensor, it is recommended to use sourceTensor.clone().detach() or sourceTensor.clone().detach().requires_grad_(True), rather than torch.tensor(sourceTensor).\n",
            "  return torch.tensor(self(X), dtype=torch.float32)\n",
            "C:\\Users\\Dr. Rajendra Ku Roul\\AppData\\Local\\Temp\\ipykernel_5080\\1701976199.py:201: UserWarning: To copy construct from a tensor, it is recommended to use sourceTensor.clone().detach() or sourceTensor.clone().detach().requires_grad_(True), rather than torch.tensor(sourceTensor).\n",
            "  Y_pred=torch.tensor(Y_pred,dtype=torch.float32)\n"
          ]
        },
        {
          "data": {
            "image/png": "[encoded data removed]",
            "text/plain": [
              "<Figure size 400x400 with 1 Axes>"
            ]
          },
          "metadata": {},
          "output_type": "display_data"
        },
        {
          "name": "stdout",
          "output_type": "stream",
          "text": [
            "Testing Loss in mean square error: 0.105979  \n",
            "\n",
            "Testing Accuracy: 0.986147\n",
            "Total Time require for Testing one image is  1.977077534445348e-06 seconds\n"
          ]
        }
      ],
      "source": [
        "i_elmTesting(i_elm_model1,x_testing_features,y_testing_labels)"
      ]
    },
    {
      "cell_type": "code",
      "execution_count": 527,
      "metadata": {},
      "outputs": [
        {
          "name": "stdout",
          "output_type": "stream",
          "text": [
            "torch.Size([1, 2]) torch.Size([2048, 1]) torch.Size([116049, 2048])\n",
            "precision= 0.9865893651909112 recall= 0.9881228188509927 f1-score= 0.9873554966227601 auc-score= 0.015509968393149009\n",
            "sensitivity= 0.41054730894045816 specificity= 0.9865893651909112 fpr= 0.013410634809088773\n",
            "Confusion Matrix: [[46935   916]\n",
            " [  810 67388]]\n",
            "                 Column1\n",
            "Precision       0.986589\n",
            "recall          0.988123\n",
            "f1-score        0.987355\n",
            "Accuracy Score  0.015510\n",
            "sensitivity     0.410547\n",
            "specificity     0.986589\n",
            "fpr             0.013411\n"
          ]
        },
        {
          "name": "stderr",
          "output_type": "stream",
          "text": [
            "C:\\Users\\Dr. Rajendra Ku Roul\\AppData\\Local\\Temp\\ipykernel_5080\\1701976199.py:111: UserWarning: To copy construct from a tensor, it is recommended to use sourceTensor.clone().detach() or sourceTensor.clone().detach().requires_grad_(True), rather than torch.tensor(sourceTensor).\n",
            "  return torch.tensor(self(X), dtype=torch.float32)\n",
            "C:\\Users\\Dr. Rajendra Ku Roul\\AppData\\Local\\Temp\\ipykernel_5080\\1701976199.py:201: UserWarning: To copy construct from a tensor, it is recommended to use sourceTensor.clone().detach() or sourceTensor.clone().detach().requires_grad_(True), rather than torch.tensor(sourceTensor).\n",
            "  Y_pred=torch.tensor(Y_pred,dtype=torch.float32)\n"
          ]
        },
        {
          "data": {
            "image/png": "[encoded data removed]",
            "text/plain": [
              "<Figure size 400x400 with 1 Axes>"
            ]
          },
          "metadata": {},
          "output_type": "display_data"
        },
        {
          "name": "stdout",
          "output_type": "stream",
          "text": [
            "Training Loss in mean square error: 0.445694\n",
            "Training Accuracy: 0.985127\n",
            "Total Time require for Training 1.096234 Seconds\n"
          ]
        }
      ],
      "source": [
        "Lmax= 100\n",
        "activation='t'\n",
        "i_elm_model2=i_elmTraining(x_training_features,y_train_labels,activation)\n"
      ]
    },
    {
      "cell_type": "code",
      "execution_count": 528,
      "metadata": {},
      "outputs": [
        {
          "name": "stdout",
          "output_type": "stream",
          "text": [
            "precision= 0.990245738928058 recall= 0.9899069385520733 f1-score= 0.990076309756014 auc-score= 0.011995038623319677\n",
            "sensitivity= 0.41140450809667184 specificity= 0.990245738928058 fpr= 0.009754261071941994\n",
            "Confusion Matrix: [[20223   285]\n",
            " [  295 28933]]\n",
            "                 Column1\n",
            "Precision       0.990246\n",
            "recall          0.989907\n",
            "f1-score        0.990076\n",
            "Accuracy Score  0.011995\n",
            "sensitivity     0.411405\n",
            "specificity     0.990246\n",
            "fpr             0.009754\n"
          ]
        },
        {
          "name": "stderr",
          "output_type": "stream",
          "text": [
            "C:\\Users\\Dr. Rajendra Ku Roul\\AppData\\Local\\Temp\\ipykernel_5080\\1701976199.py:111: UserWarning: To copy construct from a tensor, it is recommended to use sourceTensor.clone().detach() or sourceTensor.clone().detach().requires_grad_(True), rather than torch.tensor(sourceTensor).\n",
            "  return torch.tensor(self(X), dtype=torch.float32)\n",
            "C:\\Users\\Dr. Rajendra Ku Roul\\AppData\\Local\\Temp\\ipykernel_5080\\1701976199.py:201: UserWarning: To copy construct from a tensor, it is recommended to use sourceTensor.clone().detach() or sourceTensor.clone().detach().requires_grad_(True), rather than torch.tensor(sourceTensor).\n",
            "  Y_pred=torch.tensor(Y_pred,dtype=torch.float32)\n"
          ]
        },
        {
          "data": {
            "image/png": "[encoded data removed]",
            "text/plain": [
              "<Figure size 400x400 with 1 Axes>"
            ]
          },
          "metadata": {},
          "output_type": "display_data"
        },
        {
          "name": "stdout",
          "output_type": "stream",
          "text": [
            "Testing Loss in mean square error: 0.445647  \n",
            "\n",
            "Testing Accuracy: 0.988338\n",
            "Total Time require for Testing one image is  2.892881761280616e-06 seconds\n"
          ]
        }
      ],
      "source": [
        "i_elmTesting(i_elm_model2,x_testing_features,y_testing_labels)"
      ]
    },
    {
      "cell_type": "code",
      "execution_count": null,
      "metadata": {},
      "outputs": [],
      "source": [
        "y_train_labels_reshaped=np.argmax(y_train_labels.detach().cpu().numpy(),axis=1)\n"
      ]
    },
    {
      "cell_type": "code",
      "execution_count": null,
      "metadata": {},
      "outputs": [],
      "source": [
        "y_test_labels_reshaped=np.argmax(y_testing_labels.detach().cpu().numpy(),axis=1)"
      ]
    },
    {
      "cell_type": "code",
      "execution_count": null,
      "metadata": {},
      "outputs": [],
      "source": [
        "from sklearn.naive_bayes import GaussianNB\n",
        "\n",
        "# Initialize and train the naive bayes classifier\n",
        "naiveClassifier=GaussianNB(var_smoothing=1e-8)\n",
        "\n",
        "start_time=time.time()\n",
        "naiveClassifier.fit(x_training_features.cpu(),y_train_labels_reshaped)\n",
        "end_time=time.time()\n",
        "\n",
        "print(\"training_time =\", end_time-start_time)"
      ]
    },
    {
      "cell_type": "code",
      "execution_count": null,
      "metadata": {},
      "outputs": [],
      "source": [
        "from sklearn.metrics import precision_score,recall_score,f1_score,accuracy_score\n",
        "testing_start_time=time.time()\n",
        "y_pred=naiveClassifier.predict(x_testing_features.cpu())\n",
        "testing_stop_time=time.time()\n",
        "print(\"testing time=\", testing_stop_time-testing_start_time)\n",
        "# Evaluate the classifier\n",
        "accuracy = accuracy_score(y_test_labels_reshaped,y_pred)\n",
        "print(\"Accuracy:\", accuracy)\n",
        "\n",
        "precision_1 = precision_score(y_test_labels_reshaped, y_pred)\n",
        "recall=recall_score(y_test_labels_reshaped, y_pred)\n",
        "fscore=f1_score(y_test_labels_reshaped, y_pred)\n",
        "print(\"precision:\",precision_1)\n",
        "print(\"recall\",recall)\n",
        "print(\"f1-Score\",fscore)\n",
        "cm = confusion_matrix(y_test_labels_reshaped, y_pred)\n",
        "\n",
        "# Extract true positives (TP), false positives (FP), false negatives (FN), and true negatives (TN) from the confusion matrix\n",
        "tp = cm[1, 1]\n",
        "fp = cm[0, 1]\n",
        "fn = cm[1, 0]\n",
        "tn = cm[0, 0]\n",
        "\n",
        "sensitivity = tp / (tp + fn)\n",
        "specificity = tn / (tn + fp)\n",
        "print(\"Specificity:\", specificity)\n",
        "print(\"sensivity=\",sensitivity)\n",
        "TPR= tp/(tp+fn)\n",
        "FPR=fp/(fp+tn)\n",
        "X=[0,TPR,1]\n",
        "Y=[0,FPR,1]\n",
        "AUCSCORE =np.trapz(Y,X)\n",
        "print(\"AUCSCORE=\", AUCSCORE)\n"
      ]
    },
    {
      "cell_type": "markdown",
      "metadata": {},
      "source": [
        "SVM"
      ]
    },
    {
      "cell_type": "code",
      "execution_count": null,
      "metadata": {},
      "outputs": [],
      "source": [
        "from sklearn.svm import SVC\n",
        "import time\n",
        "from sklearn.model_selection import GridSearchCV\n",
        "svm=SVC(C=1,kernel='linear',gamma='auto')\n",
        "\n",
        "start_time= time.time()\n",
        "#svm=svm.cuda().to(device)\n",
        "svm.fit(x_training_features.cpu(),y_train_labels_reshaped)\n",
        "end_time=time.time()\n",
        "print(\"training time=\",end_time-start_time)\n"
      ]
    },
    {
      "cell_type": "code",
      "execution_count": null,
      "metadata": {},
      "outputs": [],
      "source": [
        "from sklearn.metrics import precision_score,recall_score,f1_score,accuracy_score\n",
        "testing_start_time=time.time()\n",
        "y_pred=svm.predict(x_testing_features.cpu())\n",
        "testing_stop_time=time.time()\n",
        "print(\"testing time=\", testing_stop_time-testing_start_time)\n",
        "# Evaluate the classifier\n",
        "accuracy = accuracy_score(y_test_labels_reshaped,y_pred)\n",
        "print(\"Accuracy:\", accuracy)\n",
        "\n",
        "precision_1 = precision_score(y_test_labels_reshaped, y_pred)\n",
        "recall=recall_score(y_test_labels_reshaped, y_pred)\n",
        "fscore=f1_score(y_test_labels_reshaped, y_pred)\n",
        "print(\"precision:\",precision_1)\n",
        "print(\"recall\",recall)\n",
        "print(\"f1-Score\",fscore)\n",
        "cm = confusion_matrix(y_test_labels_reshaped, y_pred)\n",
        "\n",
        "# Extract true positives (TP), false positives (FP), false negatives (FN), and true negatives (TN) from the confusion matrix\n",
        "tp = cm[1, 1]\n",
        "fp = cm[0, 1]\n",
        "fn = cm[1, 0]\n",
        "tn = cm[0, 0]\n",
        "\n",
        "sensitivity = tp / (tp + fn)\n",
        "specificity = tn / (tn + fp)\n",
        "print(\"Specificity:\", specificity,\"sensivity=\",sensitivity)\n",
        "\n",
        "TPR= tp/(tp+fn)\n",
        "FPR=fp/(fp+tn)\n",
        "X=[0,TPR,1]\n",
        "Y=[0,FPR,1]\n",
        "AUCSCORE =np.trapz(Y,X)\n",
        "print(\"AUCSCORE=\", AUCSCORE)"
      ]
    },
    {
      "cell_type": "markdown",
      "metadata": {},
      "source": [
        "Random Forest classifier"
      ]
    },
    {
      "cell_type": "code",
      "execution_count": null,
      "metadata": {},
      "outputs": [],
      "source": [
        "from sklearn.ensemble import RandomForestClassifier\n",
        "from sklearn.model_selection import GridSearchCV\n",
        "import time\n",
        "rf_classifier = RandomForestClassifier(n_estimators=100)\n",
        "start_time= time.time()\n",
        "rf_classifier.fit(x_training_features.cpu(),y_train_labels_reshaped)\n",
        "end_time=time.time()\n",
        "print(\"training time=\",end_time-start_time)\n"
      ]
    },
    {
      "cell_type": "code",
      "execution_count": null,
      "metadata": {},
      "outputs": [],
      "source": [
        "# Make predictions on the testing set\n",
        "from sklearn.metrics import accuracy_score\n",
        "testing_start_time=time.time()\n",
        "y_pred = rf_classifier.predict(x_testing_features.cpu())\n",
        "testing_stop_time=time.time()\n",
        "print(\"testing time=\", testing_stop_time-testing_start_time)\n",
        "\n",
        "# Evaluate the classifier\n",
        "accuracy = accuracy_score(y_test_labels_reshaped, y_pred)\n",
        "print(\"Accuracy:\", accuracy)\n",
        "from sklearn.metrics import precision_score,recall_score,f1_score\n",
        "precision_1 = precision_score(y_test_labels_reshaped, y_pred)\n",
        "recall=recall_score(y_test_labels_reshaped, y_pred)\n",
        "fscore=f1_score(y_test_labels_reshaped, y_pred)\n",
        "\n",
        "cm = confusion_matrix(y_test_labels_reshaped, y_pred)\n",
        "# Extract true positives (TP), false positives (FP), false negatives (FN), and true negatives (TN) from the confusion matrix\n",
        "tp = cm[1, 1]\n",
        "fp = cm[0, 1]\n",
        "fn = cm[1, 0]\n",
        "tn = cm[0, 0]\n",
        "#print(tp,fp)\n",
        "\n",
        "sensitivity = tp / (tp + fn)\n",
        "specificity = tn / (tn + fp)\n",
        "print(\"precision:\",precision_1)\n",
        "print(\"recall\",recall)\n",
        "print(\"f1-Score\",fscore)\n",
        "\n",
        "print(\"Specificity:\", specificity)\n",
        "print(\"sensivity=\",sensitivity)\n",
        "TPR= tp/(tp+fn)\n",
        "FPR=fp/(fp+tn)\n",
        "X=[0,TPR,1]\n",
        "Y=[0,FPR,1]\n",
        "AUCSCORE =np.trapz(Y,X)\n",
        "print(\"AUCSCORE=\", AUCSCORE)"
      ]
    },
    {
      "cell_type": "markdown",
      "metadata": {},
      "source": [
        "dt"
      ]
    },
    {
      "cell_type": "markdown",
      "metadata": {},
      "source": [
        "Decision tree classifier    "
      ]
    },
    {
      "cell_type": "code",
      "execution_count": null,
      "metadata": {},
      "outputs": [],
      "source": [
        "from sklearn.tree import DecisionTreeClassifier\n",
        "# Create a Decision Tree classifier\n",
        "dt_classifier = DecisionTreeClassifier(criterion='gini')\n",
        "\n",
        "start_time= time.time()\n",
        "dt_classifier.fit(x_training_features.cpu(),y_train_labels_reshaped)\n",
        "end_time=time.time()\n",
        "print(\"training time=\",end_time-start_time)\n"
      ]
    },
    {
      "cell_type": "code",
      "execution_count": null,
      "metadata": {},
      "outputs": [],
      "source": [
        "\n",
        "# Make predictions on the testing set\n",
        "from sklearn.metrics import accuracy_score\n",
        "testing_start_time=time.time()\n",
        "y_pred = dt_classifier.predict(x_testing_features.cpu())\n",
        "testing_stop_time=time.time()\n",
        "print(\"testing time=\", testing_stop_time-testing_start_time)\n",
        "\n",
        "# Evaluate the classifier\n",
        "accuracy = accuracy_score(y_test_labels_reshaped,y_pred)\n",
        "print(\"Accuracy:\", accuracy)\n",
        "from sklearn.metrics import precision_score,recall_score,f1_score\n",
        "precision_1 = precision_score(y_test_labels_reshaped,y_pred)\n",
        "recall=recall_score(y_test_labels_reshaped,y_pred)\n",
        "fscore=f1_score(y_test_labels_reshaped,y_pred)\n",
        "print(\"precision:\",precision_1)\n",
        "print(\"recall\",recall)\n",
        "print(\"f1-Score\",fscore)\n",
        "\n",
        "cm = confusion_matrix(y_test_labels_reshaped,y_pred)\n",
        "#print(cm)\n",
        "# Extract true positives (TP), false positives (FP), false negatives (FN), and true negatives (TN) from the confusion matrix\n",
        "tp = cm[1, 1]\n",
        "fp = cm[0, 1]\n",
        "fn = cm[1, 0]\n",
        "tn = cm[0, 0]\n",
        "#print(tp,fp)\n",
        "sensitivity = tp / (tp + fn)\n",
        "specificity = tn / (tn + fp)\n",
        "print(\"Specificity:\", specificity)\n",
        "print(\"sensivity=\",sensitivity)\n",
        "TPR= tp/(tp+fn)\n",
        "FPR=fp/(fp+tn)\n",
        "X=[0,TPR,1]\n",
        "Y=[0,FPR,1]\n",
        "AUCSCORE =np.trapz(Y,X)\n",
        "print(\"AUCSCORE=\", AUCSCORE)\n"
      ]
    },
    {
      "cell_type": "code",
      "execution_count": null,
      "metadata": {},
      "outputs": [],
      "source": [
        "from sklearn.tree import DecisionTreeClassifier\n",
        "# Create a Decision Tree classifier\n",
        "dt_classifier1 = DecisionTreeClassifier(criterion='entropy')\n",
        "\n",
        "start_time= time.time()\n",
        "dt_classifier1.fit(x_training_features.cpu(),y_train_labels_reshaped)\n",
        "end_time=time.time()\n",
        "print(\"training time=\",end_time-start_time)\n"
      ]
    },
    {
      "cell_type": "code",
      "execution_count": null,
      "metadata": {},
      "outputs": [],
      "source": [
        "\n",
        "# Make predictions on the testing set\n",
        "from sklearn.metrics import accuracy_score\n",
        "testing_start_time=time.time()\n",
        "y_pred = dt_classifier1.predict(x_testing_features.cpu())\n",
        "testing_stop_time=time.time()\n",
        "print(\"testing time=\", testing_stop_time-testing_start_time)\n",
        "\n",
        "# Evaluate the classifier\n",
        "accuracy = accuracy_score(y_test_labels_reshaped,y_pred)\n",
        "print(\"Accuracy:\", accuracy)\n",
        "from sklearn.metrics import precision_score,recall_score,f1_score\n",
        "precision_1 = precision_score(y_test_labels_reshaped,y_pred)\n",
        "recall=recall_score(y_test_labels_reshaped,y_pred)\n",
        "fscore=f1_score(y_test_labels_reshaped,y_pred)\n",
        "print(\"precision:\",precision_1)\n",
        "print(\"recall\",recall)\n",
        "print(\"f1-Score\",fscore)\n",
        "\n",
        "cm = confusion_matrix(y_test_labels_reshaped,y_pred)\n",
        "#print(cm)\n",
        "# Extract true positives (TP), false positives (FP), false negatives (FN), and true negatives (TN) from the confusion matrix\n",
        "tp = cm[1, 1]\n",
        "fp = cm[0, 1]\n",
        "fn = cm[1, 0]\n",
        "tn = cm[0, 0]\n",
        "#print(tp,fp)\n",
        "sensitivity = tp / (tp + fn)\n",
        "specificity = tn / (tn + fp)\n",
        "print(\"Specificity:\", specificity)\n",
        "print(\"sensivity=\",sensitivity)\n",
        "TPR= tp/(tp+fn)\n",
        "FPR=fp/(fp+tn)\n",
        "X=[0,TPR,1]\n",
        "Y=[0,FPR,1]\n",
        "AUCSCORE =np.trapz(Y,X)\n",
        "print(\"AUCSCORE=\", AUCSCORE)\n"
      ]
    },
    {
      "cell_type": "markdown",
      "metadata": {},
      "source": [
        "ET"
      ]
    },
    {
      "cell_type": "code",
      "execution_count": null,
      "metadata": {},
      "outputs": [],
      "source": [
        "from sklearn.ensemble import ExtraTreesClassifier\n",
        "from sklearn.model_selection import GridSearchCV\n",
        "from sklearn.metrics import precision_score,recall_score,f1_score,accuracy_score\n",
        "\n",
        "# Create the Extra Trees classifier\n",
        "clf = ExtraTreesClassifier(criterion=\"gini\")\n",
        "\n",
        "start_time=time.time()\n",
        "clf.fit(x_training_features.cpu(), y_train_labels_reshaped)\n",
        "#model.fit(, )\n",
        "stop_time=time.time()\n",
        "print(\"trainingtime=\",stop_time-start_time)\n"
      ]
    },
    {
      "cell_type": "code",
      "execution_count": null,
      "metadata": {},
      "outputs": [],
      "source": [
        "\n",
        "testing_start_time=time.time()\n",
        "y_pred = clf.predict(x_testing_features.cpu())\n",
        "testing_stop_time=time.time()\n",
        "print(\"testing time =\", testing_stop_time-testing_start_time)\n",
        "\n",
        "# Calculate accuracy score\n",
        "accuracy = accuracy_score(y_test_labels_reshaped, y_pred)\n",
        "\n",
        "print(\"accuracy:\",accuracy)\n",
        "from sklearn.metrics import precision_score,recall_score,f1_score\n",
        "fscore=f1_score(y_test_labels_reshaped, y_pred)\n",
        "print(\"precision:\",precision_1)\n",
        "print(\"recall\",recall)\n",
        "print(\"f1-Score\",fscore)\n",
        "\n",
        "\n",
        "# Assuming y_true and y_pred are your true and predicted labels, respectively\n",
        "# Assuming y_true and y_pred are your true and predicted labels, respectively\n",
        "cm = confusion_matrix(y_test_labels_reshaped, y_pred)\n",
        "#print(cm)\n",
        "# Extract true positives (TP), false positives (FP), false negatives (FN), and true negatives (TN) from the confusion matrix\n",
        "tp = cm[1, 1]\n",
        "fp = cm[0, 1]\n",
        "fn = cm[1, 0]\n",
        "tn = cm[0, 0]\n",
        "#print(tp,fp)\n",
        "sensitivity = tp / (tp + fn)\n",
        "specificity = tn / (tn + fp)\n",
        "print(\"Specificity:\", specificity)\n",
        "print(\"sensivity=\",sensitivity)\n",
        "\n"
      ]
    },
    {
      "cell_type": "code",
      "execution_count": null,
      "metadata": {},
      "outputs": [],
      "source": [
        "from sklearn.ensemble import ExtraTreesClassifier\n",
        "from sklearn.model_selection import GridSearchCV\n",
        "from sklearn.metrics import precision_score,recall_score,f1_score,accuracy_score\n",
        "\n",
        "# Create the Extra Trees classifier\n",
        "clf1 = ExtraTreesClassifier(criterion=\"entropy\")\n",
        "\n",
        "start_time=time.time()\n",
        "clf1.fit(x_training_features.cpu(), y_train_labels_reshaped)\n",
        "#model.fit(, )\n",
        "stop_time=time.time()\n",
        "print(\"trainingtime=\",stop_time-start_time)\n"
      ]
    },
    {
      "cell_type": "code",
      "execution_count": null,
      "metadata": {},
      "outputs": [],
      "source": [
        "\n",
        "testing_start_time=time.time()\n",
        "y_pred = clf.predict(x_testing_features.cpu())\n",
        "testing_stop_time=time.time()\n",
        "print(\"testing time =\", testing_stop_time-testing_start_time)\n",
        "\n",
        "# Calculate accuracy score\n",
        "accuracy = accuracy_score(y_test_labels_reshaped, y_pred)\n",
        "\n",
        "print(\"accuracy:\",accuracy)\n",
        "from sklearn.metrics import precision_score,recall_score,f1_score\n",
        "fscore=f1_score(y_test_labels_reshaped, y_pred)\n",
        "print(\"precision:\",precision_1)\n",
        "print(\"recall\",recall)\n",
        "print(\"f1-Score\",fscore)\n",
        "\n",
        "\n",
        "# Assuming y_true and y_pred are your true and predicted labels, respectively\n",
        "# Assuming y_true and y_pred are your true and predicted labels, respectively\n",
        "cm = confusion_matrix(y_test_labels_reshaped, y_pred)\n",
        "#print(cm)\n",
        "# Extract true positives (TP), false positives (FP), false negatives (FN), and true negatives (TN) from the confusion matrix\n",
        "tp = cm[1, 1]\n",
        "fp = cm[0, 1]\n",
        "fn = cm[1, 0]\n",
        "tn = cm[0, 0]\n",
        "#print(tp,fp)\n",
        "sensitivity = tp / (tp + fn)\n",
        "specificity = tn / (tn + fp)\n",
        "print(\"Specificity:\", specificity)\n",
        "print(\"sensivity=\",sensitivity)\n",
        "TPR= tp/(tp+fn)\n",
        "FPR=fp/(fp+tn)\n",
        "X=[0,TPR,1]\n",
        "Y=[0,FPR,1]\n",
        "AUCSCORE =np.trapz(Y,X)\n",
        "print(\"AUCSCORE=\", AUCSCORE)\n"
      ]
    },
    {
      "cell_type": "code",
      "execution_count": null,
      "metadata": {},
      "outputs": [],
      "source": [
        "import xgboost as xgb\n",
        "from sklearn.model_selection import train_test_split\n",
        "from sklearn.metrics import classification_report\n",
        "model = xgb.XGBClassifier(\n",
        "    n_estimators=100,  # Number of boosting rounds\n",
        "    max_depth=3,  # Maximum depth of each tree\n",
        "    learning_rate=0.001,  # Learning rate (step size shrinkage)\n",
        "    objective='binary:logistic',  # Objective function for binary classification\n",
        "    random_state=42,n_jobs=4,booster =\"gbtree\", gamma = 0\n",
        ")\n",
        "start_time=time.time()\n",
        "model.fit(x_training_features.cpu(), y_train_labels_reshaped)\n",
        "stop_time=time.time()\n",
        "print(\"trainingtime=\",stop_time-start_time)\n"
      ]
    },
    {
      "cell_type": "code",
      "execution_count": null,
      "metadata": {},
      "outputs": [],
      "source": [
        "\n",
        "testing_start_time=time.time()\n",
        "y_pred = model.predict(x_testing_features.cpu())\n",
        "testing_stop_time=time.time()\n",
        "print(\"testing time =\", testing_stop_time-testing_start_time)\n",
        "report = classification_report(y_test_labels_reshaped, y_pred)\n",
        "#print(report)\n",
        "# Calculate accuracy score\n",
        "accuracy = accuracy_score(y_test_labels_reshaped, y_pred)\n",
        "\n",
        "print(\"accuracy:\",accuracy)\n",
        "from sklearn.metrics import precision_score,recall_score,f1_score\n",
        "precision_1 = precision_score(y_test_labels_reshaped, y_pred)\n",
        "recall=recall_score(y_test_labels_reshaped, y_pred)\n",
        "fscore=f1_score(y_test_labels_reshaped, y_pred)\n",
        "print(\"precision:\",precision_1)\n",
        "print(\"recall\",recall)\n",
        "print(\"f1-Score\",fscore)\n",
        "\n",
        "\n",
        "# Assuming y_true and y_pred are your true and predicted labels, respectively\n",
        "# Assuming y_true and y_pred are your true and predicted labels, respectively\n",
        "cm = confusion_matrix(y_test_labels_reshaped, y_pred)\n",
        "print(cm)\n",
        "# Extract true positives (TP), false positives (FP), false negatives (FN), and true negatives (TN) from the confusion matrix\n",
        "tp = cm[1, 1]\n",
        "fp = cm[0, 1]\n",
        "fn = cm[1, 0]\n",
        "tn = cm[0, 0]\n",
        "#print(tp,fp)\n",
        "sensitivity = tp / (tp + fn)\n",
        "specificity = tn / (tn + fp)\n",
        "print(\"Specificity:\", specificity,\"sensivity=\",sensitivity)\n",
        "TPR= tp/(tp+fn)\n",
        "FPR=fp/(fp+tn)\n",
        "X=[0,TPR,1]\n",
        "Y=[0,FPR,1]\n",
        "AUCSCORE =np.trapz(Y,X)\n",
        "print(\"AUCSCORE=\", AUCSCORE)\n"
      ]
    },
    {
      "cell_type": "markdown",
      "metadata": {},
      "source": [
        "QDA"
      ]
    },
    {
      "cell_type": "markdown",
      "metadata": {},
      "source": [
        "XGBoost"
      ]
    },
    {
      "cell_type": "code",
      "execution_count": null,
      "metadata": {},
      "outputs": [],
      "source": [
        "import xgboost as xgb\n",
        "from sklearn.model_selection import train_test_split\n",
        "from sklearn.metrics import classification_report\n",
        "model = xgb.XGBClassifier(\n",
        "    n_estimators=100,  # Number of boosting rounds\n",
        "    max_depth=3,  # Maximum depth of each tree\n",
        "    learning_rate=0.001,  # Learning rate (step size shrinkage)\n",
        "    objective='binary:logistic',  # Objective function for binary classification\n",
        "    random_state=42,n_jobs=4,booster =\"gbtree\", gamma = 0\n",
        ")\n",
        "start_time=time.time()\n",
        "model.fit(x_training_features.cpu(), y_train_labels_reshaped)\n",
        "stop_time=time.time()\n",
        "print(\"trainingtime=\",stop_time-start_time)\n"
      ]
    },
    {
      "cell_type": "code",
      "execution_count": null,
      "metadata": {},
      "outputs": [],
      "source": [
        "\n",
        "testing_start_time=time.time()\n",
        "y_pred = model.predict(x_testing_features.cpu())\n",
        "testing_stop_time=time.time()\n",
        "print(\"testing time =\", testing_stop_time-testing_start_time)\n",
        "report = classification_report(y_test_labels_reshaped, y_pred)\n",
        "#print(report)\n",
        "# Calculate accuracy score\n",
        "accuracy = accuracy_score(y_test_labels_reshaped, y_pred)\n",
        "\n",
        "print(\"accuracy:\",accuracy)\n",
        "from sklearn.metrics import precision_score,recall_score,f1_score\n",
        "precision_1 = precision_score(y_test_labels_reshaped, y_pred)\n",
        "recall=recall_score(y_test_labels_reshaped, y_pred)\n",
        "fscore=f1_score(y_test_labels_reshaped, y_pred)\n",
        "print(\"precision:\",precision_1)\n",
        "print(\"recall\",recall)\n",
        "print(\"f1-Score\",fscore)\n",
        "\n",
        "\n",
        "# Assuming y_true and y_pred are your true and predicted labels, respectively\n",
        "# Assuming y_true and y_pred are your true and predicted labels, respectively\n",
        "cm = confusion_matrix(y_test_labels_reshaped, y_pred)\n",
        "print(cm)\n",
        "# Extract true positives (TP), false positives (FP), false negatives (FN), and true negatives (TN) from the confusion matrix\n",
        "tp = cm[1, 1]\n",
        "fp = cm[0, 1]\n",
        "fn = cm[1, 0]\n",
        "tn = cm[0, 0]\n",
        "#print(tp,fp)\n",
        "sensitivity = tp / (tp + fn)\n",
        "specificity = tn / (tn + fp)\n",
        "print(\"Specificity:\", specificity,\"sensivity=\",sensitivity)\n",
        "TPR= tp/(tp+fn)\n",
        "FPR=fp/(fp+tn)\n",
        "X=[0,TPR,1]\n",
        "Y=[0,FPR,1]\n",
        "AUCSCORE =np.trapz(Y,X)\n",
        "print(\"AUCSCORE=\", AUCSCORE)\n",
        "\n"
      ]
    }
  ],
  "metadata": {
    "accelerator": "GPU",
    "colab": {
      "gpuType": "T4",
      "provenance": []
    },
    "gpuClass": "standard",
    "kernelspec": {
      "display_name": "Python 3",
      "name": "python3"
    },
    "language_info": {
      "codemirror_mode": {
        "name": "ipython",
        "version": 3
      },
      "file_extension": ".py",
      "mimetype": "text/x-python",
      "name": "python",
      "nbconvert_exporter": "python",
      "pygments_lexer": "ipython3",
      "version": "3.9.9"
    }
  },
  "nbformat": 4,
  "nbformat_minor": 0
}
